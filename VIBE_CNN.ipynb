{
  "nbformat": 4,
  "nbformat_minor": 0,
  "metadata": {
    "colab": {
      "name": "VIBE_CNN.ipynb",
      "provenance": [],
      "collapsed_sections": []
    },
    "kernelspec": {
      "display_name": "Python 3",
      "name": "python3"
    },
    "language_info": {
      "name": "python"
    },
    "accelerator": "GPU",
    "widgets": {
      "application/vnd.jupyter.widget-state+json": {
        "4a7e1cf5a6d94660baacd93af9f9e798": {
          "model_module": "@jupyter-widgets/controls",
          "model_name": "HBoxModel",
          "state": {
            "_view_name": "HBoxView",
            "_dom_classes": [],
            "_model_name": "HBoxModel",
            "_view_module": "@jupyter-widgets/controls",
            "_model_module_version": "1.5.0",
            "_view_count": null,
            "_view_module_version": "1.5.0",
            "box_style": "",
            "layout": "IPY_MODEL_eb13edee14f04fd18d3d7b83664b94f0",
            "_model_module": "@jupyter-widgets/controls",
            "children": [
              "IPY_MODEL_10e64b3e9b344e6da699e13a6aa042d5",
              "IPY_MODEL_7530f21e94b84cd19de85cf71d138743",
              "IPY_MODEL_c520f0e56c9749fbbf61c9b1883c4a39"
            ]
          }
        },
        "eb13edee14f04fd18d3d7b83664b94f0": {
          "model_module": "@jupyter-widgets/base",
          "model_name": "LayoutModel",
          "state": {
            "_view_name": "LayoutView",
            "grid_template_rows": null,
            "right": null,
            "justify_content": null,
            "_view_module": "@jupyter-widgets/base",
            "overflow": null,
            "_model_module_version": "1.2.0",
            "_view_count": null,
            "flex_flow": null,
            "width": null,
            "min_width": null,
            "border": null,
            "align_items": null,
            "bottom": null,
            "_model_module": "@jupyter-widgets/base",
            "top": null,
            "grid_column": null,
            "overflow_y": null,
            "overflow_x": null,
            "grid_auto_flow": null,
            "grid_area": null,
            "grid_template_columns": null,
            "flex": null,
            "_model_name": "LayoutModel",
            "justify_items": null,
            "grid_row": null,
            "max_height": null,
            "align_content": null,
            "visibility": null,
            "align_self": null,
            "height": null,
            "min_height": null,
            "padding": null,
            "grid_auto_rows": null,
            "grid_gap": null,
            "max_width": null,
            "order": null,
            "_view_module_version": "1.2.0",
            "grid_template_areas": null,
            "object_position": null,
            "object_fit": null,
            "grid_auto_columns": null,
            "margin": null,
            "display": null,
            "left": null
          }
        },
        "10e64b3e9b344e6da699e13a6aa042d5": {
          "model_module": "@jupyter-widgets/controls",
          "model_name": "HTMLModel",
          "state": {
            "_view_name": "HTMLView",
            "style": "IPY_MODEL_59431f56f94048b1a0e6313430f4ca76",
            "_dom_classes": [],
            "description": "",
            "_model_name": "HTMLModel",
            "placeholder": "​",
            "_view_module": "@jupyter-widgets/controls",
            "_model_module_version": "1.5.0",
            "value": "100%",
            "_view_count": null,
            "_view_module_version": "1.5.0",
            "description_tooltip": null,
            "_model_module": "@jupyter-widgets/controls",
            "layout": "IPY_MODEL_53fea98636e14512b5a2e75223cc8492"
          }
        },
        "7530f21e94b84cd19de85cf71d138743": {
          "model_module": "@jupyter-widgets/controls",
          "model_name": "FloatProgressModel",
          "state": {
            "_view_name": "ProgressView",
            "style": "IPY_MODEL_a7351205af5348a1b44caea135c2288b",
            "_dom_classes": [],
            "description": "",
            "_model_name": "FloatProgressModel",
            "bar_style": "success",
            "max": 87306240,
            "_view_module": "@jupyter-widgets/controls",
            "_model_module_version": "1.5.0",
            "value": 87306240,
            "_view_count": null,
            "_view_module_version": "1.5.0",
            "orientation": "horizontal",
            "min": 0,
            "description_tooltip": null,
            "_model_module": "@jupyter-widgets/controls",
            "layout": "IPY_MODEL_16999729c2ee4070b5518d8322205d08"
          }
        },
        "c520f0e56c9749fbbf61c9b1883c4a39": {
          "model_module": "@jupyter-widgets/controls",
          "model_name": "HTMLModel",
          "state": {
            "_view_name": "HTMLView",
            "style": "IPY_MODEL_7fcf4eaa12164abd93045176d3a9d0a5",
            "_dom_classes": [],
            "description": "",
            "_model_name": "HTMLModel",
            "placeholder": "​",
            "_view_module": "@jupyter-widgets/controls",
            "_model_module_version": "1.5.0",
            "value": " 83.3M/83.3M [00:00&lt;00:00, 119MB/s]",
            "_view_count": null,
            "_view_module_version": "1.5.0",
            "description_tooltip": null,
            "_model_module": "@jupyter-widgets/controls",
            "layout": "IPY_MODEL_6531b8de9b2e49bdbd805ffb44793a14"
          }
        },
        "59431f56f94048b1a0e6313430f4ca76": {
          "model_module": "@jupyter-widgets/controls",
          "model_name": "DescriptionStyleModel",
          "state": {
            "_view_name": "StyleView",
            "_model_name": "DescriptionStyleModel",
            "description_width": "",
            "_view_module": "@jupyter-widgets/base",
            "_model_module_version": "1.5.0",
            "_view_count": null,
            "_view_module_version": "1.2.0",
            "_model_module": "@jupyter-widgets/controls"
          }
        },
        "53fea98636e14512b5a2e75223cc8492": {
          "model_module": "@jupyter-widgets/base",
          "model_name": "LayoutModel",
          "state": {
            "_view_name": "LayoutView",
            "grid_template_rows": null,
            "right": null,
            "justify_content": null,
            "_view_module": "@jupyter-widgets/base",
            "overflow": null,
            "_model_module_version": "1.2.0",
            "_view_count": null,
            "flex_flow": null,
            "width": null,
            "min_width": null,
            "border": null,
            "align_items": null,
            "bottom": null,
            "_model_module": "@jupyter-widgets/base",
            "top": null,
            "grid_column": null,
            "overflow_y": null,
            "overflow_x": null,
            "grid_auto_flow": null,
            "grid_area": null,
            "grid_template_columns": null,
            "flex": null,
            "_model_name": "LayoutModel",
            "justify_items": null,
            "grid_row": null,
            "max_height": null,
            "align_content": null,
            "visibility": null,
            "align_self": null,
            "height": null,
            "min_height": null,
            "padding": null,
            "grid_auto_rows": null,
            "grid_gap": null,
            "max_width": null,
            "order": null,
            "_view_module_version": "1.2.0",
            "grid_template_areas": null,
            "object_position": null,
            "object_fit": null,
            "grid_auto_columns": null,
            "margin": null,
            "display": null,
            "left": null
          }
        },
        "a7351205af5348a1b44caea135c2288b": {
          "model_module": "@jupyter-widgets/controls",
          "model_name": "ProgressStyleModel",
          "state": {
            "_view_name": "StyleView",
            "_model_name": "ProgressStyleModel",
            "description_width": "",
            "_view_module": "@jupyter-widgets/base",
            "_model_module_version": "1.5.0",
            "_view_count": null,
            "_view_module_version": "1.2.0",
            "bar_color": null,
            "_model_module": "@jupyter-widgets/controls"
          }
        },
        "16999729c2ee4070b5518d8322205d08": {
          "model_module": "@jupyter-widgets/base",
          "model_name": "LayoutModel",
          "state": {
            "_view_name": "LayoutView",
            "grid_template_rows": null,
            "right": null,
            "justify_content": null,
            "_view_module": "@jupyter-widgets/base",
            "overflow": null,
            "_model_module_version": "1.2.0",
            "_view_count": null,
            "flex_flow": null,
            "width": null,
            "min_width": null,
            "border": null,
            "align_items": null,
            "bottom": null,
            "_model_module": "@jupyter-widgets/base",
            "top": null,
            "grid_column": null,
            "overflow_y": null,
            "overflow_x": null,
            "grid_auto_flow": null,
            "grid_area": null,
            "grid_template_columns": null,
            "flex": null,
            "_model_name": "LayoutModel",
            "justify_items": null,
            "grid_row": null,
            "max_height": null,
            "align_content": null,
            "visibility": null,
            "align_self": null,
            "height": null,
            "min_height": null,
            "padding": null,
            "grid_auto_rows": null,
            "grid_gap": null,
            "max_width": null,
            "order": null,
            "_view_module_version": "1.2.0",
            "grid_template_areas": null,
            "object_position": null,
            "object_fit": null,
            "grid_auto_columns": null,
            "margin": null,
            "display": null,
            "left": null
          }
        },
        "7fcf4eaa12164abd93045176d3a9d0a5": {
          "model_module": "@jupyter-widgets/controls",
          "model_name": "DescriptionStyleModel",
          "state": {
            "_view_name": "StyleView",
            "_model_name": "DescriptionStyleModel",
            "description_width": "",
            "_view_module": "@jupyter-widgets/base",
            "_model_module_version": "1.5.0",
            "_view_count": null,
            "_view_module_version": "1.2.0",
            "_model_module": "@jupyter-widgets/controls"
          }
        },
        "6531b8de9b2e49bdbd805ffb44793a14": {
          "model_module": "@jupyter-widgets/base",
          "model_name": "LayoutModel",
          "state": {
            "_view_name": "LayoutView",
            "grid_template_rows": null,
            "right": null,
            "justify_content": null,
            "_view_module": "@jupyter-widgets/base",
            "overflow": null,
            "_model_module_version": "1.2.0",
            "_view_count": null,
            "flex_flow": null,
            "width": null,
            "min_width": null,
            "border": null,
            "align_items": null,
            "bottom": null,
            "_model_module": "@jupyter-widgets/base",
            "top": null,
            "grid_column": null,
            "overflow_y": null,
            "overflow_x": null,
            "grid_auto_flow": null,
            "grid_area": null,
            "grid_template_columns": null,
            "flex": null,
            "_model_name": "LayoutModel",
            "justify_items": null,
            "grid_row": null,
            "max_height": null,
            "align_content": null,
            "visibility": null,
            "align_self": null,
            "height": null,
            "min_height": null,
            "padding": null,
            "grid_auto_rows": null,
            "grid_gap": null,
            "max_width": null,
            "order": null,
            "_view_module_version": "1.2.0",
            "grid_template_areas": null,
            "object_position": null,
            "object_fit": null,
            "grid_auto_columns": null,
            "margin": null,
            "display": null,
            "left": null
          }
        }
      }
    }
  },
  "cells": [
    {
      "cell_type": "code",
      "metadata": {
        "id": "ks4X3LmjkCKu"
      },
      "source": [
        "from google.colab import drive\n",
        "drive.mount('/content/drive/')\n"
      ],
      "execution_count": null,
      "outputs": []
    },
    {
      "cell_type": "code",
      "metadata": {
        "id": "noi_QTZYUQZ7",
        "colab": {
          "base_uri": "https://localhost:8080/"
        },
        "outputId": "480a6747-a909-4afe-9d83-c830eb1bab3f"
      },
      "source": [
        "# !mkdir /content/VIBEdata/ \n",
        "%cd /content/VIBEdata/ \n",
        "!unzip -q /content/drive/My\\ Drive/VIBE/CNN_Testing/250plus2000GandR.zip"
      ],
      "execution_count": 5,
      "outputs": [
        {
          "output_type": "stream",
          "text": [
            "/content/VIBEdata\n"
          ],
          "name": "stdout"
        }
      ]
    },
    {
      "cell_type": "code",
      "metadata": {
        "id": "YMOHjUid0jDd"
      },
      "source": [
        "# !rm /content/KEYVIBEdata1/export/east/14281p2.jpg"
      ],
      "execution_count": null,
      "outputs": []
    },
    {
      "cell_type": "code",
      "metadata": {
        "id": "LdTUgjk8ePU0"
      },
      "source": [
        "%cd '/content/drive/My Drive/VIBE/CNN_Testing/'\n",
        "# !pip install -q pybullet\n",
        "!pip install -q transform3d\n",
        "!pip3 install -r requirements.txt\n",
        "!pip3 install -q seaborn\n"
      ],
      "execution_count": null,
      "outputs": []
    },
    {
      "cell_type": "code",
      "metadata": {
        "id": "6Gad6zKZ8wJ0",
        "colab": {
          "base_uri": "https://localhost:8080/"
        },
        "outputId": "edde8181-5858-412c-856f-90e9a688b8bc"
      },
      "source": [
        "import torch\n",
        "print(torch.cuda.device_count())\n",
        "print(torch.cuda.get_device_name(0))\n",
        "device_name = torch.device('cuda:0')\n"
      ],
      "execution_count": 1,
      "outputs": [
        {
          "output_type": "stream",
          "text": [
            "1\n",
            "Tesla K80\n"
          ],
          "name": "stdout"
        }
      ]
    },
    {
      "cell_type": "code",
      "metadata": {
        "id": "T3_aWPNKP95u",
        "colab": {
          "base_uri": "https://localhost:8080/"
        },
        "outputId": "55a8ddb0-c6bf-46ba-8281-c6f970e72c50"
      },
      "source": [
        "%cd '/content/drive/My Drive/VIBE/CNN_Testing/'\n",
        "# %matplotlib inline\n",
        "# %config InlineBackend.figure_format = 'retina'\n",
        "\n",
        "import matplotlib.pyplot as plt\n",
        "import numpy as np\n",
        "import copy\n",
        "import torch\n",
        "import pandas as pd\n",
        "import seaborn as sns\n",
        "from torch import nn\n",
        "from torch import optim\n",
        "from sklearn.metrics import confusion_matrix\n",
        "import torch.nn.functional as F\n",
        "from torchvision import datasets, transforms, models\n",
        "from pathlib import Path\n",
        "from PIL import Image\n",
        "import os\n",
        "\n",
        "data_dir = Path('/content/VIBEdata/250plus2000GandR') \n",
        "\n",
        "class CNN(nn.Module):\n",
        "    def __init__(self, isnew = False, modelname = 'KEYVIBE_model.pth'):\n",
        "        super(CNN, self).__init__()\n",
        "        if isnew == True:\n",
        "            self.model = models.resnet34(pretrained=True) #torch.hub.load('pytorch/vision:v0.9.0', 'resnet34', pretrained=True)\n",
        "        else:\n",
        "            self.model = torch.load(modelname)\n",
        "            if torch.cuda.is_available():\n",
        "              self.model.cuda()\n",
        "        with open(\"action.txt\", \"r\") as f:\n",
        "            self.categories = [s.strip() for s in f.readlines()]\n",
        "        self.device = torch.device('cuda:0' if torch.cuda.is_available() else \"cpu\")\n",
        "        # self.device = torch.device('cpu')\n",
        "        self.train_losses, self.test_losses = [], []\n",
        "\n",
        "    def load_split_train_test(self, data_dir, valid_size=.2):\n",
        "        # train_transforms = transforms.Compose([transforms.Resize((256, 256)),\n",
        "        #                                        transforms.ToTensor(),\n",
        "        #                                        ])\n",
        "        train_transforms = transforms.Compose([\n",
        "            transforms.Resize(256),\n",
        "            transforms.CenterCrop(224),\n",
        "            transforms.ToTensor(),\n",
        "            transforms.Normalize(mean=[0.485, 0.456, 0.406], std=[0.229, 0.224, 0.225]),\n",
        "        ])\n",
        "        # test_transforms = transforms.Compose([transforms.Resize((256, 256)),\n",
        "        #                                       transforms.ToTensor(),\n",
        "        #                                       ])\n",
        "        test_transforms = transforms.Compose([\n",
        "            transforms.Resize(256),\n",
        "            transforms.CenterCrop(224),\n",
        "            transforms.ToTensor(),\n",
        "            transforms.Normalize(mean=[0.485, 0.456, 0.406], std=[0.229, 0.224, 0.225]),\n",
        "        ])\n",
        "        train_data = datasets.ImageFolder(data_dir, transform=train_transforms)\n",
        "        test_data = datasets.ImageFolder(data_dir, transform=test_transforms)\n",
        "\n",
        "\n",
        "        num_train = len(train_data)\n",
        "        indices = list(range(num_train))\n",
        "        split = int(np.floor(valid_size * num_train))\n",
        "        np.random.shuffle(indices)\n",
        "\n",
        "        from torch.utils.data.sampler import SubsetRandomSampler\n",
        "\n",
        "        train_idx, test_idx = indices[split:], indices[:split]\n",
        "        train_sampler = SubsetRandomSampler(train_idx)\n",
        "        test_sampler = SubsetRandomSampler(test_idx)\n",
        "\n",
        "        self.trainloader = torch.utils.data.DataLoader(train_data, sampler=train_sampler, batch_size=64)\n",
        "        self.testloader = torch.utils.data.DataLoader(test_data, sampler=test_sampler, batch_size=64)\n",
        "\n",
        "    def train(self):\n",
        "        # for param in self.model.parameters():\n",
        "        #     param.requires_grad = False\n",
        "        num_ftrs = self.model.fc.in_features\n",
        "        self.model.fc = nn.Sequential(nn.Linear(num_ftrs, 64),\n",
        "                                      nn.ReLU(),\n",
        "                                      nn.Dropout(.2),\n",
        "                                      nn.Linear(64, 6),\n",
        "                                      nn.LogSoftmax(dim=1))\n",
        "        criterion = nn.NLLLoss().to(self.device)\n",
        "        optimizer = optim.Adam(self.model.parameters(), lr=0.0005)\n",
        "        # optimizer = optim.SGD(self.model.parameters(), lr=5e-4, momentum=0.9)\n",
        "        for param in self.model.fc.parameters():\n",
        "            param.requires_grad = False\n",
        "        self.model.to(self.device)\n",
        "\n",
        "        epochs = 20\n",
        "        steps = 0\n",
        "        running_loss = 0\n",
        "        print_every = len(self.testloader)\n",
        "        self.model.train()\n",
        "        valid_losses = []\n",
        "        Tflag = 1\n",
        "\n",
        "        for epoch in range(epochs):\n",
        "            for inputs, labels in self.trainloader:\n",
        "                steps += 1\n",
        "                inputs, labels = inputs.to(self.device), labels.to(self.device)\n",
        "                optimizer.zero_grad()\n",
        "                logps = self.model(inputs)\n",
        "                loss = criterion(logps, labels)\n",
        "                loss.backward()\n",
        "                optimizer.step()\n",
        "                running_loss += loss.item()\n",
        "                if steps % print_every == 0:\n",
        "                    test_loss = 0\n",
        "                    accuracy = 0\n",
        "                    self.model.eval()\n",
        "                    with torch.no_grad():\n",
        "                        for inputs, labels in self.testloader:\n",
        "                            inputs, labels = inputs.to(self.device),labels.to(self.device)\n",
        "                            logps = self.model(inputs)\n",
        "                            batch_loss = criterion(logps, labels)\n",
        "                            test_loss += batch_loss.item()\n",
        "                            ps = torch.exp(logps)\n",
        "                            top_p, top_class = ps.topk(1, dim=1)\n",
        "                            equals = top_class == labels.view(*top_class.shape)\n",
        "                            accuracy += torch.mean(equals.type(torch.FloatTensor)).item()\n",
        "                    self.train_losses.append(running_loss / len(self.testloader))\n",
        "                    self.test_losses.append(test_loss / print_every)\n",
        "                    print(f\"Epoch {epoch + 1}/{epochs}.. \"\n",
        "                          f\"Train loss: {running_loss / print_every:.3f}.. \"\n",
        "                          f\"Test loss: {test_loss / print_every:.3f}.. \"\n",
        "                          f\"Test accuracy: {accuracy / len(self.testloader):.3f}\")\n",
        "                    running_loss = 0\n",
        "                    self.model.train()\n",
        "                    valid_losses.append(test_loss)\n",
        "                    if valid_losses[-1] == min(valid_losses):\n",
        "                      self.best_model = copy.deepcopy(self.model)\n",
        "                      torch.save(self.best_model, 'nathan_test.pth')\n",
        "                    if  (Tflag == 1) & (epoch > 9): \n",
        "                      for param in self.model.parameters():\n",
        "                          param.requires_grad = False\n",
        "                      for param in self.model.fc.parameters():\n",
        "                          param.requires_grad = True\n",
        "                      Tflag = 0\n",
        "                      print(Tflag)\n",
        "                      optimizer = optim.Adam(self.model.fc.parameters(), lr=0.0001)\n",
        "                      self.model.to(self.device)\n",
        "\n",
        "            # if (self.test_losses[-1] < 0.1) & (self.train_losses[-1] <= 0.15):\n",
        "            #   break\n",
        "        if valid_losses[-1] == min(valid_losses):\n",
        "                      self.best_model = copy.deepcopy(self.model)\n",
        "                      torch.save(self.best_model, 'nathan_test.pth')\n",
        "\n",
        "    def plot_loss(self):\n",
        "        plt.plot(self.train_losses, label='Training loss')\n",
        "        plt.plot(self.test_losses, label='Validation loss')\n",
        "        plt.legend(frameon=False)\n",
        "        plt.show()\n",
        "      \n",
        "    def plot_confusionmat(self):\n",
        "        truelabels = []\n",
        "        predictions = []\n",
        "        self.model.eval()\n",
        "        self.model.cpu()\n",
        "        print(\"Getting predictions from test set...\")\n",
        "        for data, target in self.testloader:\n",
        "            for label in target.data.numpy():\n",
        "                truelabels.append(label)\n",
        "            for prediction in self.model(data).data.numpy().argmax(1):\n",
        "                predictions.append(prediction) \n",
        "\n",
        "        # Plot the confusion matrix\n",
        "        cm = confusion_matrix(truelabels, predictions)\n",
        "        tick_marks = np.arange(len(self.categories))\n",
        "\n",
        "        df_cm = pd.DataFrame(cm, index = self.categories, columns = self.categories)\n",
        "        plt.figure(figsize = (4,4))\n",
        "        sns.heatmap(df_cm, annot=True, cmap=plt.cm.Blues, fmt='g')\n",
        "        plt.xlabel(\"Predicted Shape\", fontsize = 20)\n",
        "        plt.ylabel(\"True Shape\", fontsize = 20)\n",
        "        plt.show()\n",
        "\n",
        "\n",
        "    def resize(self, path):\n",
        "        # This was in case the resizing in the load function did not work\n",
        "        dirs = os.listdir(path)\n",
        "        for item in dirs:\n",
        "            if os.path.isfile(path + item):\n",
        "                im = Image.open(path + item)\n",
        "                f, e = os.path.splitext(path + item)\n",
        "                imResize = im.resize((200, 200), Image.ANTIALIAS)\n",
        "                imResize.save(f + ' resized.jpg', 'JPEG', quality=90)\n",
        "\n",
        "    def RUN(self, imgpath):\n",
        "        self.model.eval()\n",
        "        input_image = Image.open(imgpath)\n",
        "        preprocess = transforms.Compose([\n",
        "            transforms.Resize(256),\n",
        "            transforms.CenterCrop(224),\n",
        "            transforms.ToTensor(),\n",
        "            transforms.Normalize(mean=[0.485, 0.456, 0.406], std=[0.229, 0.224, 0.225]),\n",
        "        ])\n",
        "        # preprocess = transforms.Compose([transforms.Resize((256, 256)),\n",
        "        #                                       transforms.ToTensor(),\n",
        "        #                                       ])\n",
        "        input_tensor = preprocess(input_image)\n",
        "        input_batch = input_tensor.unsqueeze(0)  # create a mini-batch as expected by the model\n",
        "        self.model.cpu()\n",
        "        with torch.no_grad():\n",
        "            output = self.model(input_batch)\n",
        "        probabilities = torch.nn.functional.softmax(output[0], dim=0)\n",
        "        prob, catid = torch.topk(probabilities, 6)\n",
        "        for i in range(prob.size(0)):\n",
        "            print(self.categories[catid[i]], prob[i].item())\n",
        "        print(probabilities)\n",
        "\n",
        "# Resnet = CNN(True)\n",
        "# Resnet.load_split_train_test(data_dir, .2)\n",
        "# Resnet.train()\n",
        "# Resnet.plot_loss()\n",
        "# Resnet.plot_confusionmat()"
      ],
      "execution_count": 1,
      "outputs": [
        {
          "output_type": "stream",
          "text": [
            "/content/drive/MyDrive/University/SDU/VIBE/CNN_Testing\n"
          ],
          "name": "stdout"
        }
      ]
    },
    {
      "cell_type": "code",
      "metadata": {
        "id": "XMxy74vfdwix",
        "colab": {
          "base_uri": "https://localhost:8080/",
          "height": 820,
          "referenced_widgets": [
            "4a7e1cf5a6d94660baacd93af9f9e798",
            "eb13edee14f04fd18d3d7b83664b94f0",
            "10e64b3e9b344e6da699e13a6aa042d5",
            "7530f21e94b84cd19de85cf71d138743",
            "c520f0e56c9749fbbf61c9b1883c4a39",
            "59431f56f94048b1a0e6313430f4ca76",
            "53fea98636e14512b5a2e75223cc8492",
            "a7351205af5348a1b44caea135c2288b",
            "16999729c2ee4070b5518d8322205d08",
            "7fcf4eaa12164abd93045176d3a9d0a5",
            "6531b8de9b2e49bdbd805ffb44793a14"
          ]
        },
        "outputId": "41425fd0-5baa-4125-b13d-e5935ed5289a"
      },
      "source": [
        "  Resnet = CNN(True)\n",
        "  Resnet.load_split_train_test(data_dir, .2)\n",
        "  Resnet.train()"
      ],
      "execution_count": null,
      "outputs": [
        {
          "output_type": "stream",
          "text": [
            "Downloading: \"https://download.pytorch.org/models/resnet34-333f7ec4.pth\" to /root/.cache/torch/hub/checkpoints/resnet34-333f7ec4.pth\n"
          ],
          "name": "stderr"
        },
        {
          "output_type": "display_data",
          "data": {
            "application/vnd.jupyter.widget-view+json": {
              "model_id": "4a7e1cf5a6d94660baacd93af9f9e798",
              "version_major": 2,
              "version_minor": 0
            },
            "text/plain": [
              "  0%|          | 0.00/83.3M [00:00<?, ?B/s]"
            ]
          },
          "metadata": {
            "tags": []
          }
        },
        {
          "output_type": "stream",
          "text": [
            "Epoch 1/20.. Train loss: 0.840.. Test loss: 0.660.. Test accuracy: 0.702\n",
            "Epoch 1/20.. Train loss: 0.651.. Test loss: 0.634.. Test accuracy: 0.723\n",
            "Epoch 1/20.. Train loss: 0.590.. Test loss: 0.600.. Test accuracy: 0.721\n",
            "Epoch 2/20.. Train loss: 0.592.. Test loss: 0.509.. Test accuracy: 0.741\n",
            "Epoch 2/20.. Train loss: 0.539.. Test loss: 0.539.. Test accuracy: 0.728\n",
            "Epoch 2/20.. Train loss: 0.540.. Test loss: 0.614.. Test accuracy: 0.716\n",
            "Epoch 2/20.. Train loss: 0.514.. Test loss: 0.472.. Test accuracy: 0.760\n",
            "Epoch 3/20.. Train loss: 0.510.. Test loss: 0.488.. Test accuracy: 0.745\n",
            "Epoch 3/20.. Train loss: 0.490.. Test loss: 0.473.. Test accuracy: 0.740\n",
            "Epoch 3/20.. Train loss: 0.490.. Test loss: 0.453.. Test accuracy: 0.755\n",
            "Epoch 3/20.. Train loss: 0.474.. Test loss: 0.489.. Test accuracy: 0.759\n",
            "Epoch 4/20.. Train loss: 0.483.. Test loss: 0.453.. Test accuracy: 0.759\n",
            "Epoch 4/20.. Train loss: 0.467.. Test loss: 0.460.. Test accuracy: 0.754\n",
            "Epoch 4/20.. Train loss: 0.467.. Test loss: 0.497.. Test accuracy: 0.751\n",
            "Epoch 4/20.. Train loss: 0.475.. Test loss: 0.451.. Test accuracy: 0.764\n",
            "Epoch 5/20.. Train loss: 0.456.. Test loss: 0.469.. Test accuracy: 0.752\n",
            "Epoch 5/20.. Train loss: 0.442.. Test loss: 0.465.. Test accuracy: 0.743\n",
            "Epoch 5/20.. Train loss: 0.437.. Test loss: 0.482.. Test accuracy: 0.768\n",
            "Epoch 5/20.. Train loss: 0.454.. Test loss: 0.447.. Test accuracy: 0.770\n",
            "Epoch 6/20.. Train loss: 0.442.. Test loss: 0.436.. Test accuracy: 0.765\n",
            "Epoch 6/20.. Train loss: 0.413.. Test loss: 0.497.. Test accuracy: 0.729\n",
            "Epoch 6/20.. Train loss: 0.420.. Test loss: 0.438.. Test accuracy: 0.772\n",
            "Epoch 6/20.. Train loss: 0.414.. Test loss: 0.424.. Test accuracy: 0.780\n",
            "Epoch 7/20.. Train loss: 0.425.. Test loss: 0.420.. Test accuracy: 0.765\n",
            "Epoch 7/20.. Train loss: 0.407.. Test loss: 0.441.. Test accuracy: 0.769\n",
            "Epoch 7/20.. Train loss: 0.416.. Test loss: 0.415.. Test accuracy: 0.779\n",
            "Epoch 7/20.. Train loss: 0.403.. Test loss: 0.441.. Test accuracy: 0.772\n",
            "Epoch 8/20.. Train loss: 0.399.. Test loss: 0.419.. Test accuracy: 0.776\n",
            "Epoch 8/20.. Train loss: 0.389.. Test loss: 0.424.. Test accuracy: 0.776\n",
            "Epoch 8/20.. Train loss: 0.391.. Test loss: 0.412.. Test accuracy: 0.773\n",
            "Epoch 8/20.. Train loss: 0.397.. Test loss: 0.476.. Test accuracy: 0.766\n",
            "Epoch 9/20.. Train loss: 0.401.. Test loss: 0.412.. Test accuracy: 0.770\n",
            "Epoch 9/20.. Train loss: 0.380.. Test loss: 0.450.. Test accuracy: 0.768\n",
            "Epoch 9/20.. Train loss: 0.364.. Test loss: 0.430.. Test accuracy: 0.776\n",
            "Epoch 9/20.. Train loss: 0.379.. Test loss: 0.413.. Test accuracy: 0.774\n",
            "Epoch 10/20.. Train loss: 0.353.. Test loss: 0.390.. Test accuracy: 0.795\n",
            "Epoch 10/20.. Train loss: 0.345.. Test loss: 0.410.. Test accuracy: 0.783\n",
            "Epoch 10/20.. Train loss: 0.348.. Test loss: 0.449.. Test accuracy: 0.774\n",
            "Epoch 10/20.. Train loss: 0.355.. Test loss: 0.413.. Test accuracy: 0.777\n",
            "Epoch 11/20.. Train loss: 0.339.. Test loss: 0.430.. Test accuracy: 0.786\n",
            "0\n"
          ],
          "name": "stdout"
        }
      ]
    },
    {
      "cell_type": "code",
      "metadata": {
        "id": "xs-5RWp6yalz"
      },
      "source": [
        "  Resnet.plot_loss()\n",
        "  Resnet.plot_confusionmat()"
      ],
      "execution_count": null,
      "outputs": []
    },
    {
      "cell_type": "code",
      "metadata": {
        "id": "BSf56iJdy1jG"
      },
      "source": [
        "Resnet = CNN(isnew=False, modelname='KEYVIBE_model_best_nathan.pth').cpu()\n",
        "# Resnet.load_split_train_test(data_dir, .2)\n",
        "# Resnet.plot_confusionmat()\n",
        "Resnet.RUN('/content/KEYVIBEdata/export/west/1092p6.jpg')"
      ],
      "execution_count": null,
      "outputs": []
    }
  ]
}